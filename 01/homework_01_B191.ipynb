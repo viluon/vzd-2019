{
 "cells": [
  {
   "cell_type": "markdown",
   "metadata": {},
   "source": [
    "# Úkol č. 1 - vizualizace dat a web scraping (do 20. října)\n",
    "\n",
    "  * V rámci tohoto úkolu musíte stáhnout dat z webu (tzv. _web scraping_, velmi základní) a následně data zpracovat a vizualizovat.\n",
    "  * Cílem bude stáhnout data ze serveru https://www.volby.cz týkající se voleb do zastupitelstva Vámi vybraného (většího) města, uložit tato data v tabulkovém formátu a pak vymyslet vizualizace a zobrazení dat, které umožní orientaci v těchto datech a zvýrazní zajímavé informace a zobrazit přehledně časový vývoj různých veličin.\n",
    " \n",
    "> **Úkoly jsou zadány tak, aby Vám daly prostor pro invenci. Vymyslet _jak přesně_ budete úkol řešit, je důležitou součástí zadání a originalita či nápaditost bude také hodnocena!**\n",
    "\n",
    "## Výběr zdroje dat\n",
    "\n",
    "Vyberte si větší město, které má zastupitelstvo druhu 3 (Zastupitelstvo statutárního města) a strojově stáhněte informace o stranách a kandidátkách z následujících let:\n",
    " * [2002](https://www.volby.cz/pls/kv2002/kv12?xjazyk=CZ&xid=0), [2006](https://www.volby.cz/pls/kv2006/kv12?xjazyk=CZ&xid=0), [2010](https://www.volby.cz/pls/kv2010/kv12?xjazyk=CZ&xid=0), [2014](https://www.volby.cz/pls/kv2014/kv12?xjazyk=CZ&xid=0) a [2018](https://www.volby.cz/pls/kv2018/kv12?xjazyk=CZ&xid=0).\n",
    " \n",
    "\n",
    "## Pokyny k vypracování\n",
    "\n",
    "**Základní body zadání**, za jejichž (poctivé) vypracování získáte **8 bodů**:\n",
    "  * Strojově stáhněte data pro vybrané město a uložte je všechny do (asi dvou) přehledných tabulek ve formátu _csv_.\n",
    "  * Data musí obsahovat _alespoň_ toto:\n",
    "    * Vývoj výsledků (v procentech i počtu hlasů) pro jednotlivé strany v jednotlivých letech.\n",
    "    * Seznam všech kandidátů všech stran v jednotlivých letech, u kandidáta by mělo být zaznamenáno: jméno, věk v době voleb, navrhující strana, politická příslušnost, volební zisk (procento i počet hlasů), pořadí na kandidátce, pořadí zvolení, jestli získal mandát (tyto informace získáte souhrnně ve _jmenných seznamech_).\n",
    "  * V druhé části Vašeho Jupyter notebooku pracujte s těmito tabulkami načtenými z _csv_ souboru (aby opravující nemusel spouštět stahování z webu).\n",
    "  * Tabulky ve formátu _csv_ také odevzdejte.\n",
    "  * S využitím vybraných nástrojů zpracujte data a vymyslete vizualizace a grafy, aby bylo vidět následující:\n",
    "    * Časový vývoj (po rocích voleb) počtu kandidujících stran i lidí a to celkově i po jednotlivých stranách (ve volbách, kterých se daná strana účastnila).\n",
    "    * Věkovou strukturu kandidátů celkově i za jednotlivé strany a vývoj této struktury během jednotlivých voleb.\n",
    "    * Časový vývoj volební účasti a volebních výsledků jednotlivých stran.\n",
    "    * Časový vývoj podílu kandidujících s titulem a bez titulu.\n",
    "\n",
    "**Další body zadání** za případné další body (můžete si vybrat, maximum bodů za úkol je každopádně 12 bodů):\n",
    "  * (až +2 body) U titulů se pokuste rozlišit i různé stupně vzdělání: bakalářský, magisterský, doktorský a vyšší, vojenská hodnost atp. Zkuste odhadnout i podíl žen na kandidátkách.\n",
    "  * (až +4 body) Pokuste se u jednotlivých kandidátů zjistit, zda kandidovali ve více volbách. Najděte 10 nejpilnějších kandidátů a vypište jejich volební zisky a za jaké strany kandidovali.\n",
    "  * (až +2 body) Najděte nějaký balíček, který Vám dovolí do Vašeho notebooku zavést interaktivní prvky, např. si vyberete v select-boxu stranu a Váš notebook zobrazí grafy pouze pro ni atp.\n",
    "\n",
    "## Poznámky k odevzdání\n",
    "\n",
    "  * Řiďte se pokyny ze stránky https://courses.fit.cvut.cz/BI-VZD/homeworks/index.html.\n",
    "  * Odevzdejte nejen Jupyter Notebook, ale i _csv_ soubor(y) se staženými daty.\n",
    "  * Opravující Vám může umožnit úkol dodělat či opravit a získat tak další body. První verze je ale důležitá a bude-li odbytá, budete za to penalizováni."
   ]
  },
  {
   "cell_type": "code",
   "execution_count": 2,
   "metadata": {
    "ExecuteTime": {
     "end_time": "2019-10-20T08:03:19.747248Z",
     "start_time": "2019-10-20T08:03:19.744115Z"
    }
   },
   "outputs": [],
   "source": [
    "### odtud už je to Vaše"
   ]
  },
  {
   "cell_type": "markdown",
   "metadata": {},
   "source": [
    "## Postup\n",
    "### Načtení dat\n",
    "Načteme jmenné seznamy pro obec Olomouc."
   ]
  },
  {
   "cell_type": "code",
   "execution_count": 132,
   "metadata": {
    "ExecuteTime": {
     "end_time": "2019-10-20T16:03:59.194639Z",
     "start_time": "2019-10-20T16:03:53.057222Z"
    }
   },
   "outputs": [],
   "source": [
    "from bs4 import BeautifulSoup\n",
    "from urllib.request import urlopen\n",
    "import csv\n",
    "\n",
    "class DummyHeader:\n",
    "    def __init__(self, str):\n",
    "        self.text = str\n",
    "\n",
    "def dummy(*strs):\n",
    "    return [DummyHeader(str) for str in strs]\n",
    "\n",
    "def download_results(url, fix_headers = lambda x: x, fix_row = lambda x: x, table_index = 0):\n",
    "    results = {\"headers\": None, \"rows\": []}\n",
    "    soup = BeautifulSoup(urlopen(url))\n",
    "    table = soup.find_all(\"table\")[table_index]\n",
    "\n",
    "    if results[\"headers\"] == None:\n",
    "        results[\"headers\"] = [h.text.lower() for h in fix_headers([h for h in table.find_all(\"th\") if h]) if h]\n",
    "\n",
    "    for row in table.find_all(\"tr\"):\n",
    "        fixed_row = fix_row([v for v in row.find_all(\"td\") if v])\n",
    "        results[\"rows\"].append([v.text for v in fixed_row if v])\n",
    "\n",
    "    return results\n",
    "\n",
    "def save_results(file, results):\n",
    "    with open(file, \"w\") as f:\n",
    "        writer = csv.writer(f)\n",
    "        writer.writerow(results[\"headers\"])\n",
    "        writer.writerows(results[\"rows\"])\n",
    "    return results\n",
    "\n",
    "filter_supercolumns = lambda headers, filter = lambda x: True: [h for h in headers\n",
    "                        if  h.text != \"Kandidát\"\n",
    "                        and h.text != \"Kandidátní listina\"\n",
    "                        and h.text != \"Hlasy\"\n",
    "                        and filter(h)\n",
    "                    ]\n",
    "\n",
    "# 2002\n",
    "headers2002 = dummy(\n",
    "    \"obvod\", \"číslo\", \"název\", \"poř. číslo\", \"příjmení, jméno\", \"tituly\", \"věk\", \"navrh. strana\", \"polit. přísl.\", \"abs.\", \"v %\", \"pořadí\", \"mandát\"\n",
    ")\n",
    "\n",
    "headers_parties = dummy(\n",
    "    \"nazev\", \"hlasy abs\", \"hlasy %\", \"zastupitele abs\", \"zastupitele %\"\n",
    ")\n",
    "\n",
    "r2002 = save_results(\"olomouc-2002.csv\", download_results(\n",
    "    \"https://volby.cz/pls/kv2002/kv21111?xjazyk=CZ&xid=0&xv=11&xdz=3&xnumnuts=7102&xobec=500496&xstrana=0\",\n",
    "    lambda _: headers2002\n",
    "))\n",
    "\n",
    "p2002 = save_results(\"olomouc-parties-2002.csv\", download_results(\n",
    "    \"https://www.volby.cz/pls/kv2002/kv1211?xjazyk=CZ&xid=0&xv=1&xdz=2&xnumnuts=7102\",\n",
    "    lambda _: headers_parties,\n",
    "    lambda x: x,\n",
    "    1\n",
    "))\n",
    "\n",
    "# 2006\n",
    "headers2006_2010 = dummy(\n",
    "    \"obvod\", \"číslo\", \"název\", \"poř. číslo\", \"příjmení, jméno, tituly\", \"věk\", \"navrh. strana\", \"polit. přísl.\", \"abs.\", \"v %\", \"pořadí\", \"mandát\"\n",
    ")\n",
    "\n",
    "r2006 = save_results(\"olomouc-2006.csv\", download_results(\n",
    "    \"https://volby.cz/pls/kv2006/kv21111?xjazyk=CZ&xid=0&xv=11&xdz=3&xnumnuts=7102&xobec=500496&xstrana=0\",\n",
    "    lambda _: headers2006_2010\n",
    "))\n",
    "\n",
    "p2006 = save_results(\"olomouc-parties-2006.csv\", download_results(\n",
    "    \"https://www.volby.cz/pls/kv2006/kv1111?xjazyk=CZ&xid=0&xdz=3&xnumnuts=7102&xobec=500496&xobecnaz=OLOMOUC&xstat=0&xvyber=0\",\n",
    "    lambda _: headers_parties,\n",
    "    lambda x: x,\n",
    "    1\n",
    "))\n",
    "\n",
    "# 2010\n",
    "r2010 = save_results(\"olomouc-2010.csv\", download_results(\n",
    "    \"https://www.volby.cz/pls/kv2010/kv21111?xjazyk=CZ&xid=0&xv=11&xdz=3&xnumnuts=7102&xobec=500496&xstrana=0\",\n",
    "    lambda _: headers2006_2010\n",
    "))\n",
    "\n",
    "p2010 = save_results(\"olomouc-parties-2010.csv\", download_results(\n",
    "    \"https://www.volby.cz/pls/kv2006/kv1111?xjazyk=CZ&xid=0&xdz=3&xnumnuts=7102&xobec=500496&xobecnaz=OLOMOUC&xstat=0&xvyber=0\",\n",
    "    lambda _: headers_parties,\n",
    "    lambda x: x,\n",
    "    1\n",
    "))\n",
    "\n",
    "# 2014\n",
    "headers2014_2018 = dummy(\n",
    "    \"číslo\", \"název\", \"poř. číslo\", \"příjmení, jméno, tituly\", \"věk\", \"navrh. strana\", \"polit. přísl.\", \"abs.\", \"v %\", \"pořadí\", \"mandát\"\n",
    ")\n",
    "\n",
    "r2014 = save_results(\"olomouc-2014.csv\", download_results(\n",
    "    \"https://www.volby.cz/pls/kv2014/kv21111?xjazyk=CZ&xid=0&xv=11&xdz=3&xnumnuts=7102&xobec=500496&xstrana=0\",\n",
    "    lambda _: headers2014_2018\n",
    "))\n",
    "\n",
    "p2014 = save_results(\"olomouc-parties-2014.csv\", download_results(\n",
    "    \"https://www.volby.cz/pls/kv2006/kv1111?xjazyk=CZ&xid=0&xdz=3&xnumnuts=7102&xobec=500496&xobecnaz=OLOMOUC&xstat=0&xvyber=0\",\n",
    "    lambda _: headers_parties,\n",
    "    lambda x: x,\n",
    "    1\n",
    "))\n",
    "\n",
    "# 2018\n",
    "r2018 = save_results(\"olomouc-2018.csv\", download_results(\n",
    "    \"https://www.volby.cz/pls/kv2018/kv21111?XJAZYK=CZ&XID=0&XV=11&XDZ=3&XNUMNUTS=7102&XOBEC=500496&XSTRANA=0&xf=1\",\n",
    "    lambda _: headers2014_2018\n",
    "))\n",
    "\n",
    "p2018 = save_results(\"olomouc-parties-2018.csv\", download_results(\n",
    "    \"https://www.volby.cz/pls/kv2006/kv1111?xjazyk=CZ&xid=0&xdz=3&xnumnuts=7102&xobec=500496&xobecnaz=OLOMOUC&xstat=0&xvyber=0\",\n",
    "    lambda _: headers_parties,\n",
    "    lambda x: x,\n",
    "    1\n",
    "))\n"
   ]
  },
  {
   "cell_type": "markdown",
   "metadata": {},
   "source": [
    "### Zpracování dat\n",
    "Starší verze tabulky (2002) má oproti pozdějším trochu jiné názvy sloupců."
   ]
  },
  {
   "cell_type": "code",
   "execution_count": 105,
   "metadata": {
    "ExecuteTime": {
     "end_time": "2019-10-20T15:29:49.341244Z",
     "start_time": "2019-10-20T15:29:49.337412Z"
    }
   },
   "outputs": [],
   "source": [
    "import numpy as np\n",
    "import pandas as pd\n",
    "import sklearn as skit\n",
    "import matplotlib.pyplot as plt\n",
    "import seaborn as sns"
   ]
  },
  {
   "cell_type": "code",
   "execution_count": 124,
   "metadata": {
    "ExecuteTime": {
     "end_time": "2019-10-20T16:01:52.253524Z",
     "start_time": "2019-10-20T16:01:52.187377Z"
    }
   },
   "outputs": [],
   "source": [
    "data2002    = pd.read_csv(\"olomouc-2002.csv\")\n",
    "parties2002 = pd.read_csv(\"olomouc-parties-2002.csv\")\n",
    "\n",
    "data2006    = pd.read_csv(\"olomouc-2006.csv\")\n",
    "parties2006 = pd.read_csv(\"olomouc-parties-2006.csv\")\n",
    "\n",
    "data2010    = pd.read_csv(\"olomouc-2010.csv\")\n",
    "parties2010 = pd.read_csv(\"olomouc-parties-2010.csv\")\n",
    "\n",
    "data2014    = pd.read_csv(\"olomouc-2014.csv\")\n",
    "parties2014 = pd.read_csv(\"olomouc-parties-2014.csv\")\n",
    "\n",
    "data2018    = pd.read_csv(\"olomouc-2018.csv\")\n",
    "parties2018 = pd.read_csv(\"olomouc-parties-2018.csv\")"
   ]
  },
  {
   "cell_type": "code",
   "execution_count": 129,
   "metadata": {
    "ExecuteTime": {
     "end_time": "2019-10-20T16:02:24.956239Z",
     "start_time": "2019-10-20T16:02:24.945854Z"
    }
   },
   "outputs": [
    {
     "data": {
      "text/html": [
       "<div>\n",
       "<style scoped>\n",
       "    .dataframe tbody tr th:only-of-type {\n",
       "        vertical-align: middle;\n",
       "    }\n",
       "\n",
       "    .dataframe tbody tr th {\n",
       "        vertical-align: top;\n",
       "    }\n",
       "\n",
       "    .dataframe thead th {\n",
       "        text-align: right;\n",
       "    }\n",
       "</style>\n",
       "<table border=\"1\" class=\"dataframe\">\n",
       "  <thead>\n",
       "    <tr style=\"text-align: right;\">\n",
       "      <th></th>\n",
       "      <th>nazev</th>\n",
       "      <th>hlasy abs</th>\n",
       "      <th>hlasy %</th>\n",
       "      <th>zastupitele abs</th>\n",
       "      <th>zastupitele %</th>\n",
       "    </tr>\n",
       "  </thead>\n",
       "  <tbody>\n",
       "    <tr>\n",
       "      <td>0</td>\n",
       "      <td>Křesťanská a demokratická unie - Československ...</td>\n",
       "      <td>20 192</td>\n",
       "      <td>8,35</td>\n",
       "      <td>4</td>\n",
       "      <td>8,89</td>\n",
       "    </tr>\n",
       "    <tr>\n",
       "      <td>1</td>\n",
       "      <td>Strana zelených</td>\n",
       "      <td>16 581</td>\n",
       "      <td>6,85</td>\n",
       "      <td>1</td>\n",
       "      <td>2,22</td>\n",
       "    </tr>\n",
       "    <tr>\n",
       "      <td>2</td>\n",
       "      <td>Česká strana sociálně demokratická</td>\n",
       "      <td>59 673</td>\n",
       "      <td>24,66</td>\n",
       "      <td>14</td>\n",
       "      <td>31,11</td>\n",
       "    </tr>\n",
       "    <tr>\n",
       "      <td>3</td>\n",
       "      <td>Komunistická strana Čech a Moravy</td>\n",
       "      <td>27 257</td>\n",
       "      <td>11,27</td>\n",
       "      <td>5</td>\n",
       "      <td>11,11</td>\n",
       "    </tr>\n",
       "    <tr>\n",
       "      <td>4</td>\n",
       "      <td>Občanská demokratická strana</td>\n",
       "      <td>88 178</td>\n",
       "      <td>36,44</td>\n",
       "      <td>21</td>\n",
       "      <td>46,67</td>\n",
       "    </tr>\n",
       "  </tbody>\n",
       "</table>\n",
       "</div>"
      ],
      "text/plain": [
       "                                               nazev hlasy abs hlasy %  \\\n",
       "0  Křesťanská a demokratická unie - Československ...    20 192    8,35   \n",
       "1                                    Strana zelených    16 581    6,85   \n",
       "2                 Česká strana sociálně demokratická    59 673   24,66   \n",
       "3                  Komunistická strana Čech a Moravy    27 257   11,27   \n",
       "4                       Občanská demokratická strana    88 178   36,44   \n",
       "\n",
       "   zastupitele abs zastupitele %  \n",
       "0                4          8,89  \n",
       "1                1          2,22  \n",
       "2               14         31,11  \n",
       "3                5         11,11  \n",
       "4               21         46,67  "
      ]
     },
     "execution_count": 129,
     "metadata": {},
     "output_type": "execute_result"
    }
   ],
   "source": [
    "parties2018.head()"
   ]
  },
  {
   "cell_type": "markdown",
   "metadata": {},
   "source": [
    "### Grafy"
   ]
  },
  {
   "cell_type": "code",
   "execution_count": 130,
   "metadata": {
    "ExecuteTime": {
     "end_time": "2019-10-20T16:02:28.053233Z",
     "start_time": "2019-10-20T16:02:28.035895Z"
    }
   },
   "outputs": [],
   "source": [
    "import matplotlib\n",
    "%matplotlib inline \n",
    "matplotlib.style.use('ggplot')"
   ]
  },
  {
   "cell_type": "code",
   "execution_count": null,
   "metadata": {},
   "outputs": [],
   "source": []
  }
 ],
 "metadata": {
  "kernelspec": {
   "display_name": "Python 3",
   "language": "python",
   "name": "python3"
  },
  "language_info": {
   "codemirror_mode": {
    "name": "ipython",
    "version": 3
   },
   "file_extension": ".py",
   "mimetype": "text/x-python",
   "name": "python",
   "nbconvert_exporter": "python",
   "pygments_lexer": "ipython3",
   "version": "3.7.4"
  },
  "toc": {
   "nav_menu": {
    "height": "152px",
    "width": "360px"
   },
   "number_sections": true,
   "sideBar": true,
   "skip_h1_title": false,
   "toc_cell": false,
   "toc_position": {},
   "toc_section_display": "block",
   "toc_window_display": false
  }
 },
 "nbformat": 4,
 "nbformat_minor": 4
}
