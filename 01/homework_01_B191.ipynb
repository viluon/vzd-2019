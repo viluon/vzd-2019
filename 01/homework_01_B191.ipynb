{
 "cells": [
  {
   "cell_type": "markdown",
   "metadata": {},
   "source": [
    "# Úkol č. 1 - vizualizace dat a web scraping (do 20. října)\n",
    "\n",
    "  * V rámci tohoto úkolu musíte stáhnout dat z webu (tzv. _web scraping_, velmi základní) a následně data zpracovat a vizualizovat.\n",
    "  * Cílem bude stáhnout data ze serveru https://www.volby.cz týkající se voleb do zastupitelstva Vámi vybraného (většího) města, uložit tato data v tabulkovém formátu a pak vymyslet vizualizace a zobrazení dat, které umožní orientaci v těchto datech a zvýrazní zajímavé informace a zobrazit přehledně časový vývoj různých veličin.\n",
    " \n",
    "> **Úkoly jsou zadány tak, aby Vám daly prostor pro invenci. Vymyslet _jak přesně_ budete úkol řešit, je důležitou součástí zadání a originalita či nápaditost bude také hodnocena!**\n",
    "\n",
    "## Výběr zdroje dat\n",
    "\n",
    "Vyberte si větší město, které má zastupitelstvo druhu 3 (Zastupitelstvo statutárního města) a strojově stáhněte informace o stranách a kandidátkách z následujících let:\n",
    " * [2002](https://www.volby.cz/pls/kv2002/kv12?xjazyk=CZ&xid=0), [2006](https://www.volby.cz/pls/kv2006/kv12?xjazyk=CZ&xid=0), [2010](https://www.volby.cz/pls/kv2010/kv12?xjazyk=CZ&xid=0), [2014](https://www.volby.cz/pls/kv2014/kv12?xjazyk=CZ&xid=0) a [2018](https://www.volby.cz/pls/kv2018/kv12?xjazyk=CZ&xid=0).\n",
    " \n",
    "\n",
    "## Pokyny k vypracování\n",
    "\n",
    "**Základní body zadání**, za jejichž (poctivé) vypracování získáte **8 bodů**:\n",
    "  * Strojově stáhněte data pro vybrané město a uložte je všechny do (asi dvou) přehledných tabulek ve formátu _csv_.\n",
    "  * Data musí obsahovat _alespoň_ toto:\n",
    "    * Vývoj výsledků (v procentech i počtu hlasů) pro jednotlivé strany v jednotlivých letech.\n",
    "    * Seznam všech kandidátů všech stran v jednotlivých letech, u kandidáta by mělo být zaznamenáno: jméno, věk v době voleb, navrhující strana, politická příslušnost, volební zisk (procento i počet hlasů), pořadí na kandidátce, pořadí zvolení, jestli získal mandát (tyto informace získáte souhrnně ve _jmenných seznamech_).\n",
    "  * V druhé části Vašeho Jupyter notebooku pracujte s těmito tabulkami načtenými z _csv_ souboru (aby opravující nemusel spouštět stahování z webu).\n",
    "  * Tabulky ve formátu _csv_ také odevzdejte.\n",
    "  * S využitím vybraných nástrojů zpracujte data a vymyslete vizualizace a grafy, aby bylo vidět následující:\n",
    "    * Časový vývoj (po rocích voleb) počtu kandidujících stran i lidí a to celkově i po jednotlivých stranách (ve volbách, kterých se daná strana účastnila).\n",
    "    * Věkovou strukturu kandidátů celkově i za jednotlivé strany a vývoj této struktury během jednotlivých voleb.\n",
    "    * Časový vývoj volební účasti a volebních výsledků jednotlivých stran.\n",
    "    * Časový vývoj podílu kandidujících s titulem a bez titulu.\n",
    "\n",
    "**Další body zadání** za případné další body (můžete si vybrat, maximum bodů za úkol je každopádně 12 bodů):\n",
    "  * (až +2 body) U titulů se pokuste rozlišit i různé stupně vzdělání: bakalářský, magisterský, doktorský a vyšší, vojenská hodnost atp. Zkuste odhadnout i podíl žen na kandidátkách.\n",
    "  * (až +4 body) Pokuste se u jednotlivých kandidátů zjistit, zda kandidovali ve více volbách. Najděte 10 nejpilnějších kandidátů a vypište jejich volební zisky a za jaké strany kandidovali.\n",
    "  * (až +2 body) Najděte nějaký balíček, který Vám dovolí do Vašeho notebooku zavést interaktivní prvky, např. si vyberete v select-boxu stranu a Váš notebook zobrazí grafy pouze pro ni atp.\n",
    "\n",
    "## Poznámky k odevzdání\n",
    "\n",
    "  * Řiďte se pokyny ze stránky https://courses.fit.cvut.cz/BI-VZD/homeworks/index.html.\n",
    "  * Odevzdejte nejen Jupyter Notebook, ale i _csv_ soubor(y) se staženými daty.\n",
    "  * Opravující Vám může umožnit úkol dodělat či opravit a získat tak další body. První verze je ale důležitá a bude-li odbytá, budete za to penalizováni."
   ]
  },
  {
   "cell_type": "code",
   "execution_count": 150,
   "metadata": {
    "ExecuteTime": {
     "end_time": "2019-10-20T16:38:49.283411Z",
     "start_time": "2019-10-20T16:38:49.280517Z"
    }
   },
   "outputs": [],
   "source": [
    "### odtud už je to Vaše"
   ]
  },
  {
   "cell_type": "markdown",
   "metadata": {},
   "source": [
    "## Postup\n",
    "### Načtení dat\n",
    "Načteme jmenné seznamy pro obec Olomouc."
   ]
  },
  {
   "cell_type": "code",
   "execution_count": 151,
   "metadata": {
    "ExecuteTime": {
     "end_time": "2019-10-20T16:38:56.449562Z",
     "start_time": "2019-10-20T16:38:49.291837Z"
    }
   },
   "outputs": [],
   "source": [
    "from bs4 import BeautifulSoup\n",
    "from urllib.request import urlopen\n",
    "import csv\n",
    "\n",
    "class DummyHeader:\n",
    "    def __init__(self, str):\n",
    "        self.text = str\n",
    "\n",
    "def dummy(*strs):\n",
    "    return [DummyHeader(str) for str in strs]\n",
    "\n",
    "def download_results(url, fix_headers = lambda x: x, fix_row = lambda x: x, table_index = 0):\n",
    "    results = {\"headers\": None, \"rows\": []}\n",
    "    soup = BeautifulSoup(urlopen(url))\n",
    "    table = soup.find_all(\"table\")[table_index]\n",
    "\n",
    "    if results[\"headers\"] == None:\n",
    "        results[\"headers\"] = [h.text.lower() for h in fix_headers([h for h in table.find_all(\"th\") if h]) if h]\n",
    "\n",
    "    for row in table.find_all(\"tr\"):\n",
    "        fixed_row = fix_row([v for v in row.find_all(\"td\") if v])\n",
    "        results[\"rows\"].append([v.text for v in fixed_row if v])\n",
    "\n",
    "    return results\n",
    "\n",
    "def save_results(file, results):\n",
    "    with open(file, \"w\") as f:\n",
    "        writer = csv.writer(f)\n",
    "        writer.writerow(results[\"headers\"])\n",
    "        writer.writerows(results[\"rows\"])\n",
    "    return results\n",
    "\n",
    "filter_supercolumns = lambda headers, filter = lambda x: True: [h for h in headers\n",
    "                        if  h.text != \"Kandidát\"\n",
    "                        and h.text != \"Kandidátní listina\"\n",
    "                        and h.text != \"Hlasy\"\n",
    "                        and filter(h)\n",
    "                    ]\n",
    "\n",
    "# 2002\n",
    "headers2002 = dummy(\n",
    "    \"obvod\", \"číslo\", \"název\", \"poř. číslo\", \"příjmení, jméno\", \"tituly\", \"věk\", \"navrh. strana\", \"polit. přísl.\", \"abs.\", \"v %\", \"pořadí\", \"mandát\"\n",
    ")\n",
    "\n",
    "headers_parties = dummy(\n",
    "    \"nazev\", \"hlasy abs\", \"hlasy %\", \"zastupitele abs\", \"zastupitele %\"\n",
    ")\n",
    "\n",
    "r2002 = save_results(\"olomouc-2002.csv\", download_results(\n",
    "    \"https://volby.cz/pls/kv2002/kv21111?xjazyk=CZ&xid=0&xv=11&xdz=3&xnumnuts=7102&xobec=500496&xstrana=0\",\n",
    "    lambda _: headers2002\n",
    "))\n",
    "\n",
    "p2002 = save_results(\"olomouc-parties-2002.csv\", download_results(\n",
    "    \"https://www.volby.cz/pls/kv2002/kv1211?xjazyk=CZ&xid=0&xv=1&xdz=2&xnumnuts=7102\",\n",
    "    lambda _: headers_parties,\n",
    "    lambda x: x,\n",
    "    1\n",
    "))\n",
    "\n",
    "# 2006\n",
    "headers2006_2010 = dummy(\n",
    "    \"obvod\", \"číslo\", \"název\", \"poř. číslo\", \"příjmení, jméno, tituly\", \"věk\", \"navrh. strana\", \"polit. přísl.\", \"abs.\", \"v %\", \"pořadí\", \"mandát\"\n",
    ")\n",
    "\n",
    "r2006 = save_results(\"olomouc-2006.csv\", download_results(\n",
    "    \"https://volby.cz/pls/kv2006/kv21111?xjazyk=CZ&xid=0&xv=11&xdz=3&xnumnuts=7102&xobec=500496&xstrana=0\",\n",
    "    lambda _: headers2006_2010\n",
    "))\n",
    "\n",
    "p2006 = save_results(\"olomouc-parties-2006.csv\", download_results(\n",
    "    \"https://www.volby.cz/pls/kv2006/kv1111?xjazyk=CZ&xid=0&xdz=3&xnumnuts=7102&xobec=500496&xobecnaz=OLOMOUC&xstat=0&xvyber=0\",\n",
    "    lambda _: headers_parties,\n",
    "    lambda x: x,\n",
    "    1\n",
    "))\n",
    "\n",
    "# 2010\n",
    "r2010 = save_results(\"olomouc-2010.csv\", download_results(\n",
    "    \"https://www.volby.cz/pls/kv2010/kv21111?xjazyk=CZ&xid=0&xv=11&xdz=3&xnumnuts=7102&xobec=500496&xstrana=0\",\n",
    "    lambda _: headers2006_2010\n",
    "))\n",
    "\n",
    "p2010 = save_results(\"olomouc-parties-2010.csv\", download_results(\n",
    "    \"https://www.volby.cz/pls/kv2006/kv1111?xjazyk=CZ&xid=0&xdz=3&xnumnuts=7102&xobec=500496&xobecnaz=OLOMOUC&xstat=0&xvyber=0\",\n",
    "    lambda _: headers_parties,\n",
    "    lambda x: x,\n",
    "    1\n",
    "))\n",
    "\n",
    "# 2014\n",
    "headers2014_2018 = dummy(\n",
    "    \"číslo\", \"název\", \"poř. číslo\", \"příjmení, jméno, tituly\", \"věk\", \"navrh. strana\", \"polit. přísl.\", \"abs.\", \"v %\", \"pořadí\", \"mandát\"\n",
    ")\n",
    "\n",
    "r2014 = save_results(\"olomouc-2014.csv\", download_results(\n",
    "    \"https://www.volby.cz/pls/kv2014/kv21111?xjazyk=CZ&xid=0&xv=11&xdz=3&xnumnuts=7102&xobec=500496&xstrana=0\",\n",
    "    lambda _: headers2014_2018\n",
    "))\n",
    "\n",
    "p2014 = save_results(\"olomouc-parties-2014.csv\", download_results(\n",
    "    \"https://www.volby.cz/pls/kv2006/kv1111?xjazyk=CZ&xid=0&xdz=3&xnumnuts=7102&xobec=500496&xobecnaz=OLOMOUC&xstat=0&xvyber=0\",\n",
    "    lambda _: headers_parties,\n",
    "    lambda x: x,\n",
    "    1\n",
    "))\n",
    "\n",
    "# 2018\n",
    "r2018 = save_results(\"olomouc-2018.csv\", download_results(\n",
    "    \"https://www.volby.cz/pls/kv2018/kv21111?XJAZYK=CZ&XID=0&XV=11&XDZ=3&XNUMNUTS=7102&XOBEC=500496&XSTRANA=0&xf=1\",\n",
    "    lambda _: headers2014_2018\n",
    "))\n",
    "\n",
    "p2018 = save_results(\"olomouc-parties-2018.csv\", download_results(\n",
    "    \"https://www.volby.cz/pls/kv2006/kv1111?xjazyk=CZ&xid=0&xdz=3&xnumnuts=7102&xobec=500496&xobecnaz=OLOMOUC&xstat=0&xvyber=0\",\n",
    "    lambda _: headers_parties,\n",
    "    lambda x: x,\n",
    "    1\n",
    "))\n"
   ]
  },
  {
   "cell_type": "code",
   "execution_count": 152,
   "metadata": {
    "ExecuteTime": {
     "end_time": "2019-10-20T16:38:56.459673Z",
     "start_time": "2019-10-20T16:38:56.453060Z"
    }
   },
   "outputs": [],
   "source": [
    "import numpy as np\n",
    "import pandas as pd\n",
    "import sklearn as skit\n",
    "import matplotlib.pyplot as plt\n",
    "import seaborn as sns"
   ]
  },
  {
   "cell_type": "code",
   "execution_count": 153,
   "metadata": {
    "ExecuteTime": {
     "end_time": "2019-10-20T16:38:56.544177Z",
     "start_time": "2019-10-20T16:38:56.466367Z"
    }
   },
   "outputs": [],
   "source": [
    "   data2002 = pd.read_csv(\"olomouc-2002.csv\")\n",
    "parties2002 = pd.read_csv(\"olomouc-parties-2002.csv\")\n",
    "   data2002[\"rok\"] = 2002\n",
    "parties2002[\"rok\"] = 2002\n",
    "\n",
    "   data2006 = pd.read_csv(\"olomouc-2006.csv\")\n",
    "parties2006 = pd.read_csv(\"olomouc-parties-2006.csv\")\n",
    "   data2006[\"rok\"] = 2006\n",
    "parties2006[\"rok\"] = 2006\n",
    "\n",
    "   data2010 = pd.read_csv(\"olomouc-2010.csv\")\n",
    "parties2010 = pd.read_csv(\"olomouc-parties-2010.csv\")\n",
    "   data2010[\"rok\"] = 2010\n",
    "parties2010[\"rok\"] = 2010\n",
    "\n",
    "   data2014 = pd.read_csv(\"olomouc-2014.csv\")\n",
    "parties2014 = pd.read_csv(\"olomouc-parties-2014.csv\")\n",
    "   data2014[\"rok\"] = 2014\n",
    "parties2014[\"rok\"] = 2014\n",
    "\n",
    "   data2018 = pd.read_csv(\"olomouc-2018.csv\")\n",
    "parties2018 = pd.read_csv(\"olomouc-parties-2018.csv\")\n",
    "   data2018[\"rok\"] = 2018\n",
    "parties2018[\"rok\"] = 2018"
   ]
  },
  {
   "cell_type": "code",
   "execution_count": 154,
   "metadata": {
    "ExecuteTime": {
     "end_time": "2019-10-20T16:38:56.566122Z",
     "start_time": "2019-10-20T16:38:56.546745Z"
    }
   },
   "outputs": [
    {
     "data": {
      "text/html": [
       "<div>\n",
       "<style scoped>\n",
       "    .dataframe tbody tr th:only-of-type {\n",
       "        vertical-align: middle;\n",
       "    }\n",
       "\n",
       "    .dataframe tbody tr th {\n",
       "        vertical-align: top;\n",
       "    }\n",
       "\n",
       "    .dataframe thead th {\n",
       "        text-align: right;\n",
       "    }\n",
       "</style>\n",
       "<table border=\"1\" class=\"dataframe\">\n",
       "  <thead>\n",
       "    <tr style=\"text-align: right;\">\n",
       "      <th></th>\n",
       "      <th>číslo</th>\n",
       "      <th>název</th>\n",
       "      <th>poř. číslo</th>\n",
       "      <th>příjmení, jméno, tituly</th>\n",
       "      <th>věk</th>\n",
       "      <th>navrh. strana</th>\n",
       "      <th>polit. přísl.</th>\n",
       "      <th>abs.</th>\n",
       "      <th>v %</th>\n",
       "      <th>pořadí</th>\n",
       "      <th>mandát</th>\n",
       "      <th>rok</th>\n",
       "    </tr>\n",
       "  </thead>\n",
       "  <tbody>\n",
       "    <tr>\n",
       "      <td>0</td>\n",
       "      <td>11</td>\n",
       "      <td>ProOlomouc</td>\n",
       "      <td>20</td>\n",
       "      <td>Ada Johnová Magda MgA. et MgA.</td>\n",
       "      <td>40</td>\n",
       "      <td>ProOl</td>\n",
       "      <td>ProOl</td>\n",
       "      <td>3 491</td>\n",
       "      <td>2,23</td>\n",
       "      <td>14</td>\n",
       "      <td>-</td>\n",
       "      <td>2018</td>\n",
       "    </tr>\n",
       "    <tr>\n",
       "      <td>1</td>\n",
       "      <td>8</td>\n",
       "      <td>ANO 2011</td>\n",
       "      <td>21</td>\n",
       "      <td>Adamíková Alena PhDr.</td>\n",
       "      <td>61</td>\n",
       "      <td>ANO</td>\n",
       "      <td>ANO</td>\n",
       "      <td>7 775</td>\n",
       "      <td>2,25</td>\n",
       "      <td>7</td>\n",
       "      <td>-</td>\n",
       "      <td>2018</td>\n",
       "    </tr>\n",
       "    <tr>\n",
       "      <td>2</td>\n",
       "      <td>10</td>\n",
       "      <td>SPR-REP.STR.ČECH,MORAVY,SLEZ.</td>\n",
       "      <td>35</td>\n",
       "      <td>Alka Ladislav</td>\n",
       "      <td>62</td>\n",
       "      <td>SPR-RSČMS</td>\n",
       "      <td>BEZPP</td>\n",
       "      <td>61</td>\n",
       "      <td>2,65</td>\n",
       "      <td>-</td>\n",
       "      <td>-</td>\n",
       "      <td>2018</td>\n",
       "    </tr>\n",
       "    <tr>\n",
       "      <td>3</td>\n",
       "      <td>3</td>\n",
       "      <td>SPD T.OKAMURA a SPO ZEMANOVCI</td>\n",
       "      <td>3</td>\n",
       "      <td>Alt David Ing.</td>\n",
       "      <td>36</td>\n",
       "      <td>SPD</td>\n",
       "      <td>SPD</td>\n",
       "      <td>1 761</td>\n",
       "      <td>2,44</td>\n",
       "      <td>3</td>\n",
       "      <td>*</td>\n",
       "      <td>2018</td>\n",
       "    </tr>\n",
       "    <tr>\n",
       "      <td>4</td>\n",
       "      <td>15</td>\n",
       "      <td>Moravské zemské hnutí</td>\n",
       "      <td>10</td>\n",
       "      <td>Anderle Jiří</td>\n",
       "      <td>54</td>\n",
       "      <td>MZH</td>\n",
       "      <td>BEZPP</td>\n",
       "      <td>60</td>\n",
       "      <td>3,19</td>\n",
       "      <td>-</td>\n",
       "      <td>-</td>\n",
       "      <td>2018</td>\n",
       "    </tr>\n",
       "  </tbody>\n",
       "</table>\n",
       "</div>"
      ],
      "text/plain": [
       "   číslo                          název  poř. číslo  \\\n",
       "0     11                     ProOlomouc          20   \n",
       "1      8                       ANO 2011          21   \n",
       "2     10  SPR-REP.STR.ČECH,MORAVY,SLEZ.          35   \n",
       "3      3  SPD T.OKAMURA a SPO ZEMANOVCI           3   \n",
       "4     15          Moravské zemské hnutí          10   \n",
       "\n",
       "          příjmení, jméno, tituly  věk navrh. strana polit. přísl.   abs.  \\\n",
       "0  Ada Johnová Magda MgA. et MgA.   40         ProOl         ProOl  3 491   \n",
       "1           Adamíková Alena PhDr.   61           ANO           ANO  7 775   \n",
       "2                   Alka Ladislav   62     SPR-RSČMS         BEZPP     61   \n",
       "3                  Alt David Ing.   36           SPD           SPD  1 761   \n",
       "4                    Anderle Jiří   54           MZH         BEZPP     60   \n",
       "\n",
       "    v % pořadí mandát   rok  \n",
       "0  2,23     14      -  2018  \n",
       "1  2,25      7      -  2018  \n",
       "2  2,65      -      -  2018  \n",
       "3  2,44      3      *  2018  \n",
       "4  3,19      -      -  2018  "
      ]
     },
     "execution_count": 154,
     "metadata": {},
     "output_type": "execute_result"
    }
   ],
   "source": [
    "data2018.head()"
   ]
  },
  {
   "cell_type": "markdown",
   "metadata": {},
   "source": [
    "### Zpracování dat\n",
    "Starší verze tabulky (2002) má oproti pozdějším trochu jiné názvy sloupců."
   ]
  },
  {
   "cell_type": "code",
   "execution_count": 155,
   "metadata": {
    "ExecuteTime": {
     "end_time": "2019-10-20T16:38:56.595958Z",
     "start_time": "2019-10-20T16:38:56.571341Z"
    }
   },
   "outputs": [
    {
     "data": {
      "text/html": [
       "<div>\n",
       "<style scoped>\n",
       "    .dataframe tbody tr th:only-of-type {\n",
       "        vertical-align: middle;\n",
       "    }\n",
       "\n",
       "    .dataframe tbody tr th {\n",
       "        vertical-align: top;\n",
       "    }\n",
       "\n",
       "    .dataframe thead th {\n",
       "        text-align: right;\n",
       "    }\n",
       "</style>\n",
       "<table border=\"1\" class=\"dataframe\">\n",
       "  <thead>\n",
       "    <tr style=\"text-align: right;\">\n",
       "      <th></th>\n",
       "      <th>obvod</th>\n",
       "      <th>číslo</th>\n",
       "      <th>název</th>\n",
       "      <th>poř. číslo</th>\n",
       "      <th>věk</th>\n",
       "      <th>navrh. strana</th>\n",
       "      <th>polit. přísl.</th>\n",
       "      <th>abs.</th>\n",
       "      <th>v %</th>\n",
       "      <th>pořadí</th>\n",
       "      <th>mandát</th>\n",
       "      <th>rok</th>\n",
       "      <th>příjmení, jméno, tituly</th>\n",
       "    </tr>\n",
       "  </thead>\n",
       "  <tbody>\n",
       "    <tr>\n",
       "      <td>0</td>\n",
       "      <td>3</td>\n",
       "      <td>2</td>\n",
       "      <td>NEZÁVISLÍ</td>\n",
       "      <td>3</td>\n",
       "      <td>45</td>\n",
       "      <td>NEZ</td>\n",
       "      <td>BEZPP</td>\n",
       "      <td>481</td>\n",
       "      <td>14.87</td>\n",
       "      <td>2</td>\n",
       "      <td></td>\n",
       "      <td>2002</td>\n",
       "      <td>Adamíková Alena PhDr.</td>\n",
       "    </tr>\n",
       "    <tr>\n",
       "      <td>1</td>\n",
       "      <td>4</td>\n",
       "      <td>8</td>\n",
       "      <td>Křesť.demokr.unie-Čs.str.lid.</td>\n",
       "      <td>7</td>\n",
       "      <td>54</td>\n",
       "      <td>KDU-ČSL</td>\n",
       "      <td>BEZPP</td>\n",
       "      <td>566</td>\n",
       "      <td>9.49</td>\n",
       "      <td>6</td>\n",
       "      <td></td>\n",
       "      <td>2002</td>\n",
       "      <td>Andresová Stanislava PhDr.</td>\n",
       "    </tr>\n",
       "    <tr>\n",
       "      <td>2</td>\n",
       "      <td>2</td>\n",
       "      <td>1</td>\n",
       "      <td>Strana zelených a Šance pro Ol</td>\n",
       "      <td>1</td>\n",
       "      <td>38</td>\n",
       "      <td>SZ</td>\n",
       "      <td>SZ</td>\n",
       "      <td>761</td>\n",
       "      <td>15.85</td>\n",
       "      <td>1</td>\n",
       "      <td>*</td>\n",
       "      <td>2002</td>\n",
       "      <td>Andrš Pavel MUDr.</td>\n",
       "    </tr>\n",
       "    <tr>\n",
       "      <td>3</td>\n",
       "      <td>3</td>\n",
       "      <td>9</td>\n",
       "      <td>Česká str.sociálně demokrat.</td>\n",
       "      <td>5</td>\n",
       "      <td>25</td>\n",
       "      <td>ČSSD</td>\n",
       "      <td>ČSSD</td>\n",
       "      <td>953</td>\n",
       "      <td>10.98</td>\n",
       "      <td>3</td>\n",
       "      <td></td>\n",
       "      <td>2002</td>\n",
       "      <td>Augustin Radek Mgr.</td>\n",
       "    </tr>\n",
       "    <tr>\n",
       "      <td>4</td>\n",
       "      <td>3</td>\n",
       "      <td>1</td>\n",
       "      <td>Občanská demokratická strana</td>\n",
       "      <td>5</td>\n",
       "      <td>27</td>\n",
       "      <td>ODS</td>\n",
       "      <td>ODS</td>\n",
       "      <td>928</td>\n",
       "      <td>11.24</td>\n",
       "      <td>3</td>\n",
       "      <td></td>\n",
       "      <td>2002</td>\n",
       "      <td>Bačík Petr Ing.</td>\n",
       "    </tr>\n",
       "  </tbody>\n",
       "</table>\n",
       "</div>"
      ],
      "text/plain": [
       "   obvod  číslo                           název  poř. číslo  věk  \\\n",
       "0      3      2                       NEZÁVISLÍ           3   45   \n",
       "1      4      8   Křesť.demokr.unie-Čs.str.lid.           7   54   \n",
       "2      2      1  Strana zelených a Šance pro Ol           1   38   \n",
       "3      3      9    Česká str.sociálně demokrat.           5   25   \n",
       "4      3      1    Občanská demokratická strana           5   27   \n",
       "\n",
       "  navrh. strana polit. přísl. abs.    v % pořadí mandát   rok  \\\n",
       "0           NEZ         BEZPP  481  14.87      2         2002   \n",
       "1       KDU-ČSL         BEZPP  566   9.49      6         2002   \n",
       "2            SZ            SZ  761  15.85      1      *  2002   \n",
       "3          ČSSD          ČSSD  953  10.98      3         2002   \n",
       "4           ODS           ODS  928  11.24      3         2002   \n",
       "\n",
       "       příjmení, jméno, tituly  \n",
       "0       Adamíková Alena PhDr.   \n",
       "1  Andresová Stanislava PhDr.   \n",
       "2           Andrš Pavel MUDr.   \n",
       "3         Augustin Radek Mgr.   \n",
       "4             Bačík Petr Ing.   "
      ]
     },
     "execution_count": 155,
     "metadata": {},
     "output_type": "execute_result"
    }
   ],
   "source": [
    "data2002[\"příjmení, jméno, tituly\"] = data2002[\"příjmení, jméno\"] + \" \" + data2002[\"tituly\"]\n",
    "del data2002[\"příjmení, jméno\"]\n",
    "del data2002[\"tituly\"]\n",
    "data2002.head()"
   ]
  },
  {
   "cell_type": "code",
   "execution_count": 156,
   "metadata": {
    "ExecuteTime": {
     "end_time": "2019-10-20T16:38:56.636731Z",
     "start_time": "2019-10-20T16:38:56.598643Z"
    }
   },
   "outputs": [
    {
     "data": {
      "text/html": [
       "<div>\n",
       "<style scoped>\n",
       "    .dataframe tbody tr th:only-of-type {\n",
       "        vertical-align: middle;\n",
       "    }\n",
       "\n",
       "    .dataframe tbody tr th {\n",
       "        vertical-align: top;\n",
       "    }\n",
       "\n",
       "    .dataframe thead th {\n",
       "        text-align: right;\n",
       "    }\n",
       "</style>\n",
       "<table border=\"1\" class=\"dataframe\">\n",
       "  <thead>\n",
       "    <tr style=\"text-align: right;\">\n",
       "      <th></th>\n",
       "      <th>obvod</th>\n",
       "      <th>číslo</th>\n",
       "      <th>název</th>\n",
       "      <th>poř. číslo</th>\n",
       "      <th>věk</th>\n",
       "      <th>navrh. strana</th>\n",
       "      <th>polit. přísl.</th>\n",
       "      <th>abs.</th>\n",
       "      <th>v %</th>\n",
       "      <th>pořadí</th>\n",
       "      <th>mandát</th>\n",
       "      <th>rok</th>\n",
       "      <th>příjmení, jméno, tituly</th>\n",
       "    </tr>\n",
       "  </thead>\n",
       "  <tbody>\n",
       "    <tr>\n",
       "      <td>0</td>\n",
       "      <td>3.0</td>\n",
       "      <td>2</td>\n",
       "      <td>NEZÁVISLÍ</td>\n",
       "      <td>3</td>\n",
       "      <td>45</td>\n",
       "      <td>NEZ</td>\n",
       "      <td>BEZPP</td>\n",
       "      <td>481</td>\n",
       "      <td>14.87</td>\n",
       "      <td>2</td>\n",
       "      <td></td>\n",
       "      <td>2002</td>\n",
       "      <td>Adamíková Alena PhDr.</td>\n",
       "    </tr>\n",
       "    <tr>\n",
       "      <td>1</td>\n",
       "      <td>4.0</td>\n",
       "      <td>8</td>\n",
       "      <td>Křesť.demokr.unie-Čs.str.lid.</td>\n",
       "      <td>7</td>\n",
       "      <td>54</td>\n",
       "      <td>KDU-ČSL</td>\n",
       "      <td>BEZPP</td>\n",
       "      <td>566</td>\n",
       "      <td>9.49</td>\n",
       "      <td>6</td>\n",
       "      <td></td>\n",
       "      <td>2002</td>\n",
       "      <td>Andresová Stanislava PhDr.</td>\n",
       "    </tr>\n",
       "    <tr>\n",
       "      <td>2</td>\n",
       "      <td>2.0</td>\n",
       "      <td>1</td>\n",
       "      <td>Strana zelených a Šance pro Ol</td>\n",
       "      <td>1</td>\n",
       "      <td>38</td>\n",
       "      <td>SZ</td>\n",
       "      <td>SZ</td>\n",
       "      <td>761</td>\n",
       "      <td>15.85</td>\n",
       "      <td>1</td>\n",
       "      <td>*</td>\n",
       "      <td>2002</td>\n",
       "      <td>Andrš Pavel MUDr.</td>\n",
       "    </tr>\n",
       "    <tr>\n",
       "      <td>3</td>\n",
       "      <td>3.0</td>\n",
       "      <td>9</td>\n",
       "      <td>Česká str.sociálně demokrat.</td>\n",
       "      <td>5</td>\n",
       "      <td>25</td>\n",
       "      <td>ČSSD</td>\n",
       "      <td>ČSSD</td>\n",
       "      <td>953</td>\n",
       "      <td>10.98</td>\n",
       "      <td>3</td>\n",
       "      <td></td>\n",
       "      <td>2002</td>\n",
       "      <td>Augustin Radek Mgr.</td>\n",
       "    </tr>\n",
       "    <tr>\n",
       "      <td>4</td>\n",
       "      <td>3.0</td>\n",
       "      <td>1</td>\n",
       "      <td>Občanská demokratická strana</td>\n",
       "      <td>5</td>\n",
       "      <td>27</td>\n",
       "      <td>ODS</td>\n",
       "      <td>ODS</td>\n",
       "      <td>928</td>\n",
       "      <td>11.24</td>\n",
       "      <td>3</td>\n",
       "      <td></td>\n",
       "      <td>2002</td>\n",
       "      <td>Bačík Petr Ing.</td>\n",
       "    </tr>\n",
       "  </tbody>\n",
       "</table>\n",
       "</div>"
      ],
      "text/plain": [
       "   obvod  číslo                           název  poř. číslo  věk  \\\n",
       "0    3.0      2                       NEZÁVISLÍ           3   45   \n",
       "1    4.0      8   Křesť.demokr.unie-Čs.str.lid.           7   54   \n",
       "2    2.0      1  Strana zelených a Šance pro Ol           1   38   \n",
       "3    3.0      9    Česká str.sociálně demokrat.           5   25   \n",
       "4    3.0      1    Občanská demokratická strana           5   27   \n",
       "\n",
       "  navrh. strana polit. přísl. abs.    v % pořadí mandát   rok  \\\n",
       "0           NEZ         BEZPP  481  14.87      2         2002   \n",
       "1       KDU-ČSL         BEZPP  566   9.49      6         2002   \n",
       "2            SZ            SZ  761  15.85      1      *  2002   \n",
       "3          ČSSD          ČSSD  953  10.98      3         2002   \n",
       "4           ODS           ODS  928  11.24      3         2002   \n",
       "\n",
       "       příjmení, jméno, tituly  \n",
       "0       Adamíková Alena PhDr.   \n",
       "1  Andresová Stanislava PhDr.   \n",
       "2           Andrš Pavel MUDr.   \n",
       "3         Augustin Radek Mgr.   \n",
       "4             Bačík Petr Ing.   "
      ]
     },
     "execution_count": 156,
     "metadata": {},
     "output_type": "execute_result"
    }
   ],
   "source": [
    "data = pd.concat([data2002, data2006, data2010, data2014, data2018], sort = False)\n",
    "data.head()"
   ]
  },
  {
   "cell_type": "code",
   "execution_count": 157,
   "metadata": {
    "ExecuteTime": {
     "end_time": "2019-10-20T16:38:56.670324Z",
     "start_time": "2019-10-20T16:38:56.640701Z"
    }
   },
   "outputs": [
    {
     "data": {
      "text/html": [
       "<div>\n",
       "<style scoped>\n",
       "    .dataframe tbody tr th:only-of-type {\n",
       "        vertical-align: middle;\n",
       "    }\n",
       "\n",
       "    .dataframe tbody tr th {\n",
       "        vertical-align: top;\n",
       "    }\n",
       "\n",
       "    .dataframe thead th {\n",
       "        text-align: right;\n",
       "    }\n",
       "</style>\n",
       "<table border=\"1\" class=\"dataframe\">\n",
       "  <thead>\n",
       "    <tr style=\"text-align: right;\">\n",
       "      <th></th>\n",
       "      <th>nazev</th>\n",
       "      <th>hlasy abs</th>\n",
       "      <th>hlasy %</th>\n",
       "      <th>zastupitele abs</th>\n",
       "      <th>zastupitele %</th>\n",
       "      <th>rok</th>\n",
       "    </tr>\n",
       "  </thead>\n",
       "  <tbody>\n",
       "    <tr>\n",
       "      <td>0</td>\n",
       "      <td>Křesťanská a demokratická unie - Československ...</td>\n",
       "      <td>36 215</td>\n",
       "      <td>14.29</td>\n",
       "      <td>13</td>\n",
       "      <td>15.48</td>\n",
       "      <td>2002</td>\n",
       "    </tr>\n",
       "    <tr>\n",
       "      <td>1</td>\n",
       "      <td>Česká strana národně sociální</td>\n",
       "      <td>2 854</td>\n",
       "      <td>1.13</td>\n",
       "      <td>0</td>\n",
       "      <td>0</td>\n",
       "      <td>2002</td>\n",
       "    </tr>\n",
       "    <tr>\n",
       "      <td>2</td>\n",
       "      <td>Česká strana sociálně demokratická</td>\n",
       "      <td>43 429</td>\n",
       "      <td>17.14</td>\n",
       "      <td>13</td>\n",
       "      <td>15.48</td>\n",
       "      <td>2002</td>\n",
       "    </tr>\n",
       "    <tr>\n",
       "      <td>3</td>\n",
       "      <td>Komunistická strana Čech a Moravy</td>\n",
       "      <td>40 148</td>\n",
       "      <td>15.84</td>\n",
       "      <td>12</td>\n",
       "      <td>14.29</td>\n",
       "      <td>2002</td>\n",
       "    </tr>\n",
       "    <tr>\n",
       "      <td>4</td>\n",
       "      <td>Občanská demokratická strana</td>\n",
       "      <td>50 307</td>\n",
       "      <td>19.85</td>\n",
       "      <td>16</td>\n",
       "      <td>19.05</td>\n",
       "      <td>2002</td>\n",
       "    </tr>\n",
       "  </tbody>\n",
       "</table>\n",
       "</div>"
      ],
      "text/plain": [
       "                                               nazev hlasy abs hlasy %  \\\n",
       "0  Křesťanská a demokratická unie - Československ...    36 215   14.29   \n",
       "1                      Česká strana národně sociální     2 854    1.13   \n",
       "2                 Česká strana sociálně demokratická    43 429   17.14   \n",
       "3                  Komunistická strana Čech a Moravy    40 148   15.84   \n",
       "4                       Občanská demokratická strana    50 307   19.85   \n",
       "\n",
       "   zastupitele abs zastupitele %   rok  \n",
       "0               13         15.48  2002  \n",
       "1                0             0  2002  \n",
       "2               13         15.48  2002  \n",
       "3               12         14.29  2002  \n",
       "4               16         19.05  2002  "
      ]
     },
     "execution_count": 157,
     "metadata": {},
     "output_type": "execute_result"
    }
   ],
   "source": [
    "parties = pd.concat([parties2002, parties2006, parties2010, parties2014, parties2018])\n",
    "parties.head()"
   ]
  },
  {
   "cell_type": "markdown",
   "metadata": {},
   "source": [
    "### Grafy"
   ]
  },
  {
   "cell_type": "code",
   "execution_count": 158,
   "metadata": {
    "ExecuteTime": {
     "end_time": "2019-10-20T16:38:56.685382Z",
     "start_time": "2019-10-20T16:38:56.675367Z"
    }
   },
   "outputs": [],
   "source": [
    "import matplotlib\n",
    "%matplotlib inline \n",
    "matplotlib.style.use('ggplot')"
   ]
  },
  {
   "cell_type": "code",
   "execution_count": 251,
   "metadata": {
    "ExecuteTime": {
     "end_time": "2019-10-20T18:50:56.222139Z",
     "start_time": "2019-10-20T18:50:54.787669Z"
    }
   },
   "outputs": [
    {
     "data": {
      "image/png": "[encoded data removed]",
      "text/plain": [
       "<Figure size 720x720 with 1 Axes>"
      ]
     },
     "metadata": {},
     "output_type": "display_data"
    }
   ],
   "source": [
    "f = plt.figure()\n",
    "df = data.groupby([\"název\", \"rok\"]).count()[\"příjmení, jméno, tituly\"]\n",
    "plt.title(\"Počet kandidujících za stranu a rok\", color = \"black\")\n",
    "df.unstack().T.plot(kind = \"bar\", ax = f.gca(), figsize = (10, 10), width = 1)\n",
    "plt.legend(bbox_to_anchor = (1.0, 1.0))\n",
    "plt.show()"
   ]
  },
  {
   "cell_type": "code",
   "execution_count": 250,
   "metadata": {
    "ExecuteTime": {
     "end_time": "2019-10-20T18:49:25.865828Z",
     "start_time": "2019-10-20T18:49:25.595752Z"
    }
   },
   "outputs": [
    {
     "data": {
      "text/plain": [
       "<matplotlib.axes._subplots.AxesSubplot at 0x7f8ee5a60c90>"
      ]
     },
     "execution_count": 250,
     "metadata": {},
     "output_type": "execute_result"
    },
    {
     "data": {
      "image/png": "[encoded data removed]",
      "text/plain": [
       "<Figure size 432x288 with 1 Axes>"
      ]
     },
     "metadata": {},
     "output_type": "display_data"
    }
   ],
   "source": [
    "f = plt.figure()\n",
    "plt.title(\"Vývoj počtu kandidujících stran\")\n",
    "df.unstack().count().plot.bar()\n"
   ]
  },
  {
   "cell_type": "code",
   "execution_count": 259,
   "metadata": {
    "ExecuteTime": {
     "end_time": "2019-10-20T18:54:54.878693Z",
     "start_time": "2019-10-20T18:54:54.620103Z"
    }
   },
   "outputs": [
    {
     "data": {
      "text/plain": [
       "<matplotlib.axes._subplots.AxesSubplot at 0x7f8ee58b8d10>"
      ]
     },
     "execution_count": 259,
     "metadata": {},
     "output_type": "execute_result"
    },
    {
     "data": {
      "image/png": "[encoded data removed]",
      "text/plain": [
       "<Figure size 432x288 with 1 Axes>"
      ]
     },
     "metadata": {},
     "output_type": "display_data"
    }
   ],
   "source": [
    "f = plt.figure()\n",
    "plt.title(\"Celkový počet volebních kandidátů v čase\")\n",
    "df.unstack().sum().plot.bar()"
   ]
  },
  {
   "cell_type": "code",
   "execution_count": null,
   "metadata": {},
   "outputs": [],
   "source": []
  }
 ],
 "metadata": {
  "kernelspec": {
   "display_name": "Python 3",
   "language": "python",
   "name": "python3"
  },
  "language_info": {
   "codemirror_mode": {
    "name": "ipython",
    "version": 3
   },
   "file_extension": ".py",
   "mimetype": "text/x-python",
   "name": "python",
   "nbconvert_exporter": "python",
   "pygments_lexer": "ipython3",
   "version": "3.7.4"
  },
  "toc": {
   "nav_menu": {
    "height": "152px",
    "width": "360px"
   },
   "number_sections": true,
   "sideBar": true,
   "skip_h1_title": false,
   "toc_cell": false,
   "toc_position": {},
   "toc_section_display": "block",
   "toc_window_display": false
  }
 },
 "nbformat": 4,
 "nbformat_minor": 4
}
